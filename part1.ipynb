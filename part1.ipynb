{
 "cells": [
  {
   "cell_type": "markdown",
   "metadata": {},
   "source": [
    "# Artificial intelligence\n",
    "\n",
    "Opdracht: <b>Neural networks</b>\n",
    "\n",
    "Groep: \n",
    "- Xin Wang\n",
    "- Jascha van der Ark"
   ]
  },
  {
   "cell_type": "markdown",
   "metadata": {},
   "source": [
    "## Assignment introduction\n",
    "\n",
    "<i>Recognizing handwritten digits is the ‘hello world’ of artificial neural networks. \n",
    "In this assignment you will train neural networks to identify the correct digital from a handwritten digit. \n",
    "\n",
    "You will be exploring how different input parameters (like the network topology) affects the results. \n",
    "\n",
    "You are free to use any tool and programming language. However, we suggest using Keras and Tensorflow (in Python).</i>"
   ]
  },
  {
   "cell_type": "markdown",
   "metadata": {},
   "source": [
    "## Part 1\n",
    "This part of the assignment will focus on predicting the handwritten digit, with a neural network."
   ]
  },
  {
   "cell_type": "markdown",
   "metadata": {},
   "source": [
    "### Intro\n",
    "\n",
    "#### The relevant techniques applied:\n",
    "- Image classification?\n",
    "- Linear regression\n",
    "- ???\n",
    "\n",
    "#### Datasets used\n",
    "- MNIST dataset of handwritten digits\n",
    "\n",
    "#### Goal:\n",
    "- The goal of this part of the assignment is to predict a handwritten digit, using a neural network.\n",
    "\n",
    "#### Possible challenges:\n",
    "- Overfitting\n",
    "- Underfitting\n",
    "- ???\n",
    "\n",
    "#### Points needed to be addressed during the assesment:\n",
    "- The Concept of the assignment\n",
    "- The code behind the Neural network.\n",
    "- The challenges behind this assignment\n",
    "- A Demo\n",
    "\n",
    "#### (Tijdelijk) Questions(Vragen voor AI)\n",
    "- Wat is precies de bedoeling van deel 1 en deel 2?\n",
    "- Moeten beide onderdelen in het eindassesment behandeld moeten worden?\n",
    "- Het is voor ons niet heel duidelijk wat er gevraagd wordt? Kunt u ons een directie aanwijzen waarna we toe kunnen werken? (Xin) <br/>Voorbeelden: De technieken toegepast en hoe dat past binnen dit onderwerp? "
   ]
  },
  {
   "cell_type": "markdown",
   "metadata": {},
   "source": [
    "#### Dataset setup."
   ]
  },
  {
   "cell_type": "code",
   "execution_count": 173,
   "metadata": {},
   "outputs": [],
   "source": [
    "# Import all the necessary tooling\n",
    "import tensorflow as tf\n",
    "import tensorflow_datasets as tfds\n",
    "\n",
    "import pandas as pd\n",
    "import numpy as np\n",
    "import seaborn as sns \n",
    "# Matplotlib\n",
    "import matplotlib.pyplot as plt"
   ]
  },
  {
   "cell_type": "markdown",
   "metadata": {},
   "source": [
    "We will start with a binary classification of the dataset. With the goal of determining if a digit is a 1 or not."
   ]
  },
  {
   "cell_type": "markdown",
   "metadata": {},
   "source": [
    "Findings:\n",
    "\n",
    "Fill in the findings\n",
    "\n",
    "====\n",
    "Repeat the cycle, but this time to predict if the right digit is predicted based on the handwritten digit."
   ]
  },
  {
   "cell_type": "code",
   "execution_count": 226,
   "metadata": {},
   "outputs": [],
   "source": [
    "# My version\n",
    "# Imports\n",
    "digit_dataset = tf.keras.datasets.mnist\n",
    "# Load dataset\n",
    "(x_train, y_train), (x_test, y_test) = digit_dataset.load_data()\n",
    "\n",
    "# Create the labels\n",
    "number_class = [0, 1, 2, 3, 4, 5, 6, 7, 8, 9]\n",
    "\n",
    "x_train = x_train / 255.0\n",
    "x_test = x_test / 255.0\n",
    "\n",
    "# If needed, pre-process the data.\n",
    "# Convert labels to binary: 1 if the digit is '1', otherwise 0\n",
    "y_train_binary = (y_train == 1).astype(int)\n",
    "y_test_binary = (y_test == 1).astype(int)\n",
    "\n",
    "# Set up the model\n",
    "# Like the amounts of layers needed\n",
    "# The kinds of preceptors or neurons needed\n",
    "# Eventually append the prediction layer to it.\n",
    "model = tf.keras.Sequential([\n",
    "    tf.keras.layers.Flatten(input_shape=(28, 28)),\n",
    "    # ReLu formula is used to determine the value\n",
    "    tf.keras.layers.Dense(128, activation=\"relu\"),\n",
    "    # The output layer \n",
    "    tf.keras.layers.Dense(1, activation=\"sigmoid\")\n",
    "])\n",
    "\n",
    "# Nu een optimizer toegevoegd.\n",
    "adam = tf.keras.optimizers.Adam(learning_rate=0.001)\n",
    "\n",
    "# Compile the model\n",
    "model.compile(optimizer=adam,\n",
    "              loss='binary_crossentropy',\n",
    "              metrics=[\"accuracy\"])"
   ]
  },
  {
   "cell_type": "code",
   "execution_count": 227,
   "metadata": {},
   "outputs": [
    {
     "name": "stdout",
     "output_type": "stream",
     "text": [
      "Epoch 1/10\n",
      "\u001b[1m1688/1688\u001b[0m \u001b[32m━━━━━━━━━━━━━━━━━━━━\u001b[0m\u001b[37m\u001b[0m \u001b[1m3s\u001b[0m 927us/step - auc_5: 0.9898 - loss: 0.0541 - val_auc_5: 0.9997 - val_loss: 0.0141\n",
      "Epoch 2/10\n",
      "\u001b[1m1688/1688\u001b[0m \u001b[32m━━━━━━━━━━━━━━━━━━━━\u001b[0m\u001b[37m\u001b[0m \u001b[1m1s\u001b[0m 780us/step - auc_5: 0.9987 - loss: 0.0132 - val_auc_5: 0.9983 - val_loss: 0.0126\n",
      "Epoch 3/10\n",
      "\u001b[1m1688/1688\u001b[0m \u001b[32m━━━━━━━━━━━━━━━━━━━━\u001b[0m\u001b[37m\u001b[0m \u001b[1m1s\u001b[0m 813us/step - auc_5: 0.9993 - loss: 0.0106 - val_auc_5: 0.9990 - val_loss: 0.0119\n",
      "Epoch 4/10\n",
      "\u001b[1m1688/1688\u001b[0m \u001b[32m━━━━━━━━━━━━━━━━━━━━\u001b[0m\u001b[37m\u001b[0m \u001b[1m1s\u001b[0m 819us/step - auc_5: 0.9993 - loss: 0.0074 - val_auc_5: 0.9983 - val_loss: 0.0099\n",
      "Epoch 5/10\n",
      "\u001b[1m1688/1688\u001b[0m \u001b[32m━━━━━━━━━━━━━━━━━━━━\u001b[0m\u001b[37m\u001b[0m \u001b[1m1s\u001b[0m 782us/step - auc_5: 0.9991 - loss: 0.0064 - val_auc_5: 0.9983 - val_loss: 0.0083\n",
      "Epoch 6/10\n",
      "\u001b[1m1688/1688\u001b[0m \u001b[32m━━━━━━━━━━━━━━━━━━━━\u001b[0m\u001b[37m\u001b[0m \u001b[1m1s\u001b[0m 797us/step - auc_5: 0.9998 - loss: 0.0050 - val_auc_5: 0.9984 - val_loss: 0.0079\n",
      "Epoch 7/10\n",
      "\u001b[1m1688/1688\u001b[0m \u001b[32m━━━━━━━━━━━━━━━━━━━━\u001b[0m\u001b[37m\u001b[0m \u001b[1m1s\u001b[0m 777us/step - auc_5: 0.9997 - loss: 0.0048 - val_auc_5: 0.9991 - val_loss: 0.0101\n",
      "Epoch 8/10\n",
      "\u001b[1m1688/1688\u001b[0m \u001b[32m━━━━━━━━━━━━━━━━━━━━\u001b[0m\u001b[37m\u001b[0m \u001b[1m1s\u001b[0m 788us/step - auc_5: 0.9998 - loss: 0.0032 - val_auc_5: 0.9983 - val_loss: 0.0114\n",
      "Epoch 9/10\n",
      "\u001b[1m1688/1688\u001b[0m \u001b[32m━━━━━━━━━━━━━━━━━━━━\u001b[0m\u001b[37m\u001b[0m \u001b[1m1s\u001b[0m 794us/step - auc_5: 1.0000 - loss: 0.0029 - val_auc_5: 0.9968 - val_loss: 0.0081\n",
      "Epoch 10/10\n",
      "\u001b[1m1688/1688\u001b[0m \u001b[32m━━━━━━━━━━━━━━━━━━━━\u001b[0m\u001b[37m\u001b[0m \u001b[1m1s\u001b[0m 773us/step - auc_5: 0.9998 - loss: 0.0022 - val_auc_5: 0.9984 - val_loss: 0.0072\n",
      "313/313 - 0s - 652us/step - auc_5: 0.9981 - loss: 0.0091\n",
      "Loss =  0.00906774029135704\n",
      "Accuracy =  0.9980920553207397\n"
     ]
    }
   ],
   "source": [
    "# Evaluate\n",
    "# Use the model for prediction\n",
    "model.fit(x_train, y_train_binary, epochs=10, validation_split=0.1)\n",
    "\n",
    "# Parameters: epochs 10,  optimizer= adam en loss is binary crossentropy = Result: 11 procent nauwkeurig\n",
    "# Evaluate the model\n",
    "test_loss, test_acc = model.evaluate(x_test, y_test_binary, verbose=2)\n",
    "print('Loss = ',test_loss)\n",
    "print('Accuracy = ', test_acc)\n",
    "\n",
    "# Test set result accuracy = 11,3 procent\n",
    "# Test set result accuracy = 88 procent\n",
    "\n",
    "# Test accuracy = 99,7 procent, Training accuracy = 99,96 procent\n",
    "# With swish formula 99,7 procent, 99,72"
   ]
  },
  {
   "cell_type": "code",
   "execution_count": 209,
   "metadata": {},
   "outputs": [],
   "source": [
    "# Create a visualisation\n",
    "# Function to plot images with their predicted probabilities\n",
    "def plot_predictions(images, labels, predictions, num_images=10):\n",
    "    plt.figure(figsize=(15, 5))\n",
    "    for i in range(num_images):\n",
    "        plt.subplot(2, num_images//2, i+1)\n",
    "        plt.imshow(images[i], cmap='gray')\n",
    "        plt.title(f\"Label: {labels[i]}\\nPred: {predictions[i]:.4f}\")\n",
    "        plt.axis('off')\n",
    "    plt.tight_layout()\n",
    "    plt.show()\n",
    "\n",
    "def plot_bar_predictions(images, labels, predictions):\n",
    "    fig, ax = plt.subplots(figsize=(10, 6))\n",
    "\n",
    "    bar_width = 0.5\n",
    "    bar_positions = np.arange(len(images))\n",
    "    \n",
    "    bars = ax.bar(bar_positions, predictions, bar_width, align='center')\n",
    "\n",
    "    # Add actual labels on top of the bars\n",
    "    for bar, label, prob in zip(bars, labels, predictions):\n",
    "        height = bar.get_height()\n",
    "        ax.text(bar.get_x() + bar.get_width() / 2, height, f'{label}\\n{prob:.2f}', \n",
    "                ha='center', va='bottom', fontsize=10)\n",
    "\n",
    "    ax.set_xlabel('Image Index')\n",
    "    ax.set_ylabel('Predicted Probability of Being \"1\"')\n",
    "    ax.set_title('Predicted Probabilities of Being \"1\" for Selected Images')\n",
    "    ax.set_xticks(bar_positions)\n",
    "    ax.set_xticklabels([f'Img {i+1}' for i in range(len(images))], rotation=45)\n",
    "\n",
    "    plt.show()\n",
    "\n"
   ]
  },
  {
   "cell_type": "code",
   "execution_count": 228,
   "metadata": {},
   "outputs": [
    {
     "name": "stdout",
     "output_type": "stream",
     "text": [
      "\u001b[1m313/313\u001b[0m \u001b[32m━━━━━━━━━━━━━━━━━━━━\u001b[0m\u001b[37m\u001b[0m \u001b[1m0s\u001b[0m 648us/step\n",
      "\u001b[1m1/1\u001b[0m \u001b[32m━━━━━━━━━━━━━━━━━━━━\u001b[0m\u001b[37m\u001b[0m \u001b[1m0s\u001b[0m 15ms/step\n"
     ]
    },
    {
     "data": {
      "image/png": "[encoded data removed]",
      "text/plain": [
       "<Figure size 1500x500 with 4 Axes>"
      ]
     },
     "metadata": {},
     "output_type": "display_data"
    }
   ],
   "source": [
    "predictions = model.predict(x_test)\n",
    "\n",
    "# Select a few test images to visualize\n",
    "num_images_to_visualize = 10\n",
    "indices = np.random.choice(len(x_test), num_images_to_visualize, replace=False)\n",
    "selected_images = x_test[indices]\n",
    "selected_labels = y_test[indices]\n",
    "\n",
    "# Preprocess the images: no need to reshape, model accepts (num_samples, 28, 28)\n",
    "selected_images_preprocessed = selected_images\n",
    "\n",
    "# Use the model to predict the probabilities\n",
    "predictions = model.predict(selected_images_preprocessed).flatten()\n",
    "\n",
    "# Plot the images with their predicted probabilities\n",
    "plot_predictions(selected_images, selected_labels, predictions, num_images=num_images_to_visualize)"
   ]
  },
  {
   "cell_type": "markdown",
   "metadata": {},
   "source": [
    "## Part 2\n",
    "\n",
    "To see the methodology of the second part of the assignment, follow this file below or go to file part2.ipynb"
   ]
  },
  {
   "cell_type": "markdown",
   "metadata": {},
   "source": []
  }
 ],
 "metadata": {
  "kernelspec": {
   "display_name": "Python 3 (ipykernel)",
   "language": "python",
   "name": "python3"
  },
  "language_info": {
   "codemirror_mode": {
    "name": "ipython",
    "version": 3
   },
   "file_extension": ".py",
   "mimetype": "text/x-python",
   "name": "python",
   "nbconvert_exporter": "python",
   "pygments_lexer": "ipython3",
   "version": "3.9.19"
  }
 },
 "nbformat": 4,
 "nbformat_minor": 2
}
