{
 "cells": [
  {
   "cell_type": "markdown",
   "metadata": {},
   "source": [
    "# Artificial intelligence\n",
    "\n",
    "Opdracht: <b>Neural networks</b>\n",
    "\n",
    "Groep: \n",
    "- Xin Wang\n",
    "- Jascha van der Ark"
   ]
  },
  {
   "cell_type": "markdown",
   "metadata": {},
   "source": [
    "## Assignment introduction\n",
    "\n",
    "<i>Recognizing handwritten digits is the ‘hello world’ of artificial neural networks. \n",
    "In this assignment you will train neural networks to identify the correct digital from a handwritten digit. \n",
    "\n",
    "You will be exploring how different input parameters (like the network topology) affects the results. \n",
    "\n",
    "You are free to use any tool and programming language. However, we suggest using Keras and Tensorflow (in Python).</i>"
   ]
  },
  {
   "cell_type": "markdown",
   "metadata": {},
   "source": [
    "## Part 1\n",
    "This part of the assignment will focus on predicting the handwritten digit, with a neural network."
   ]
  },
  {
   "cell_type": "markdown",
   "metadata": {},
   "source": [
    "### Intro\n",
    "\n",
    "#### The relevant techniques applied: Neural networks. \n",
    "\n",
    "#### Datasets used: MNIST dataset of handwritten digits\n",
    "\n",
    "#### Goal:\n",
    "- The goal of this part of the assignment is to predict a handwritten digit, using a neural network."
   ]
  },
  {
   "cell_type": "markdown",
   "metadata": {},
   "source": [
    "#### Dataset setup."
   ]
  },
  {
   "cell_type": "code",
   "execution_count": 1,
   "metadata": {},
   "outputs": [],
   "source": [
    "# Import all the necessary tooling\n",
    "import tensorflow as tf\n",
    "import tensorflow_datasets as tfds\n",
    "\n",
    "import pandas as pd\n",
    "import numpy as np\n",
    "import seaborn as sns \n",
    "# Matplotlib\n",
    "import matplotlib.pyplot as plt"
   ]
  },
  {
   "cell_type": "markdown",
   "metadata": {},
   "source": [
    "We will start with a binary classification of the dataset. With the goal of determining if a digit is a 1 or not."
   ]
  },
  {
   "cell_type": "code",
   "execution_count": 263,
   "metadata": {},
   "outputs": [
    {
     "name": "stderr",
     "output_type": "stream",
     "text": [
      "C:\\Users\\Xin20\\anaconda3\\lib\\site-packages\\keras\\src\\layers\\reshaping\\flatten.py:37: UserWarning: Do not pass an `input_shape`/`input_dim` argument to a layer. When using Sequential models, prefer using an `Input(shape)` object as the first layer in the model instead.\n",
      "  super().__init__(**kwargs)\n"
     ]
    }
   ],
   "source": [
    "# My version\n",
    "# Imports\n",
    "digit_dataset = tf.keras.datasets.mnist\n",
    "# Load dataset\n",
    "(x_train, y_train), (x_test, y_test) = digit_dataset.load_data()\n",
    "\n",
    "# Create the labels\n",
    "number_class = [0, 1, 2, 3, 4, 5, 6, 7, 8, 9]\n",
    "\n",
    "x_train = x_train / 255.0\n",
    "x_test = x_test / 255.0\n",
    "\n",
    "# If needed, pre-process the data.\n",
    "# Convert labels to binary: 1 if the digit is '1', otherwise 0\n",
    "y_train_binary = (y_train == 1).astype(int)\n",
    "y_test_binary = (y_test == 1).astype(int)\n",
    "\n",
    "# y_train_binary = y_train\n",
    "# y_test_binary = y_test\n",
    "\n",
    "# Set up the model\n",
    "# Like the amounts of layers needed\n",
    "# The kinds of preceptors or neurons needed\n",
    "# Eventually append the prediction layer to it.\n",
    "model = tf.keras.Sequential([\n",
    "    tf.keras.layers.Flatten(input_shape=(28, 28)),\n",
    "    # ReLu formula is used to determine the value\n",
    "    tf.keras.layers.Dense(3, activation=\"relu\"),\n",
    "    # The output layer \n",
    "    tf.keras.layers.Dense(1, activation=\"sigmoid\")\n",
    "])\n",
    "\n",
    "# Nu een optimizer toegevoegd.\n",
    "adam = tf.keras.optimizers.Adam(learning_rate=0.001)\n",
    "\n",
    "# Compile the model\n",
    "model.compile(optimizer=adam,\n",
    "              loss='binary_crossentropy',\n",
    "              metrics=[tf.keras.metrics.AUC(\n",
    "    num_thresholds=200,\n",
    "    curve='ROC',\n",
    "    summation_method='interpolation',\n",
    "    name=None,\n",
    "    dtype=None,\n",
    "    thresholds=None,\n",
    "    multi_label=False,\n",
    "    num_labels=None,\n",
    "    label_weights=None,\n",
    "    from_logits=False\n",
    ")])"
   ]
  },
  {
   "cell_type": "markdown",
   "metadata": {},
   "source": [
    "## Evaluate and predict:"
   ]
  },
  {
   "cell_type": "code",
   "execution_count": 261,
   "metadata": {},
   "outputs": [
    {
     "name": "stdout",
     "output_type": "stream",
     "text": [
      "Epoch 1/10\n",
      "\u001b[1m1688/1688\u001b[0m \u001b[32m━━━━━━━━━━━━━━━━━━━━\u001b[0m\u001b[37m\u001b[0m \u001b[1m2s\u001b[0m 839us/step - auc_19: 0.9389 - loss: 0.1573 - val_auc_19: 0.9967 - val_loss: 0.0248\n",
      "Epoch 2/10\n",
      "\u001b[1m1688/1688\u001b[0m \u001b[32m━━━━━━━━━━━━━━━━━━━━\u001b[0m\u001b[37m\u001b[0m \u001b[1m1s\u001b[0m 687us/step - auc_19: 0.9961 - loss: 0.0290 - val_auc_19: 0.9992 - val_loss: 0.0202\n",
      "Epoch 3/10\n",
      "\u001b[1m1688/1688\u001b[0m \u001b[32m━━━━━━━━━━━━━━━━━━━━\u001b[0m\u001b[37m\u001b[0m \u001b[1m1s\u001b[0m 680us/step - auc_19: 0.9977 - loss: 0.0233 - val_auc_19: 0.9995 - val_loss: 0.0168\n",
      "Epoch 4/10\n",
      "\u001b[1m1688/1688\u001b[0m \u001b[32m━━━━━━━━━━━━━━━━━━━━\u001b[0m\u001b[37m\u001b[0m \u001b[1m1s\u001b[0m 703us/step - auc_19: 0.9983 - loss: 0.0168 - val_auc_19: 0.9989 - val_loss: 0.0138\n",
      "Epoch 5/10\n",
      "\u001b[1m1688/1688\u001b[0m \u001b[32m━━━━━━━━━━━━━━━━━━━━\u001b[0m\u001b[37m\u001b[0m \u001b[1m1s\u001b[0m 683us/step - auc_19: 0.9985 - loss: 0.0150 - val_auc_19: 0.9988 - val_loss: 0.0145\n",
      "Epoch 6/10\n",
      "\u001b[1m1688/1688\u001b[0m \u001b[32m━━━━━━━━━━━━━━━━━━━━\u001b[0m\u001b[37m\u001b[0m \u001b[1m1s\u001b[0m 686us/step - auc_19: 0.9989 - loss: 0.0132 - val_auc_19: 0.9989 - val_loss: 0.0136\n",
      "Epoch 7/10\n",
      "\u001b[1m1688/1688\u001b[0m \u001b[32m━━━━━━━━━━━━━━━━━━━━\u001b[0m\u001b[37m\u001b[0m \u001b[1m1s\u001b[0m 718us/step - auc_19: 0.9986 - loss: 0.0130 - val_auc_19: 0.9988 - val_loss: 0.0139\n",
      "Epoch 8/10\n",
      "\u001b[1m1688/1688\u001b[0m \u001b[32m━━━━━━━━━━━━━━━━━━━━\u001b[0m\u001b[37m\u001b[0m \u001b[1m1s\u001b[0m 680us/step - auc_19: 0.9991 - loss: 0.0115 - val_auc_19: 0.9989 - val_loss: 0.0137\n",
      "Epoch 9/10\n",
      "\u001b[1m1688/1688\u001b[0m \u001b[32m━━━━━━━━━━━━━━━━━━━━\u001b[0m\u001b[37m\u001b[0m \u001b[1m1s\u001b[0m 692us/step - auc_19: 0.9992 - loss: 0.0106 - val_auc_19: 0.9981 - val_loss: 0.0149\n",
      "Epoch 10/10\n",
      "\u001b[1m1688/1688\u001b[0m \u001b[32m━━━━━━━━━━━━━━━━━━━━\u001b[0m\u001b[37m\u001b[0m \u001b[1m1s\u001b[0m 710us/step - auc_19: 0.9993 - loss: 0.0119 - val_auc_19: 0.9989 - val_loss: 0.0134\n",
      "313/313 - 0s - 587us/step - auc_19: 0.9980 - loss: 0.0133\n",
      "Loss =  0.013305450789630413\n",
      "Accuracy =  0.9980141520500183\n"
     ]
    }
   ],
   "source": [
    "# Evaluate\n",
    "# Use the model for prediction\n",
    "model.fit(x_train, y_train_binary, epochs=10, validation_split=0.1)\n",
    "\n",
    "# Parameters: epochs 10,  optimizer= adam en loss is binary crossentropy = Result: 11 procent nauwkeurig\n",
    "# Evaluate the model\n",
    "test_loss, test_acc = model.evaluate(x_test, y_test_binary, verbose=2)\n",
    "print('Loss = ',test_loss)\n",
    "print('Accuracy = ', test_acc)\n",
    "\n"
   ]
  },
  {
   "cell_type": "code",
   "execution_count": 4,
   "metadata": {},
   "outputs": [],
   "source": [
    "# Create a visualisation\n",
    "# Function to plot images with their predicted probabilities\n",
    "def plot_predictions(images, labels, predictions, num_images=10):\n",
    "    plt.figure(figsize=(15, 5))\n",
    "    for i in range(num_images):\n",
    "        plt.subplot(2, num_images//2, i+1)\n",
    "        plt.imshow(images[i], cmap='gray')\n",
    "        plt.title(f\"Label: {labels[i]}\\nPred: {predictions[i]:.4f}\")\n",
    "        plt.axis('off')\n",
    "    plt.tight_layout()\n",
    "    plt.show()\n",
    "\n",
    "def plot_bar_predictions(images, labels, predictions):\n",
    "    fig, ax = plt.subplots(figsize=(10, 6))\n",
    "\n",
    "    bar_width = 0.5\n",
    "    bar_positions = np.arange(len(images))\n",
    "    \n",
    "    bars = ax.bar(bar_positions, predictions, bar_width, align='center')\n",
    "\n",
    "    # Add actual labels on top of the bars\n",
    "    for bar, label, prob in zip(bars, labels, predictions):\n",
    "        height = bar.get_height()\n",
    "        ax.text(bar.get_x() + bar.get_width() / 2, height, f'{label}\\n{prob:.2f}', \n",
    "                ha='center', va='bottom', fontsize=10)\n",
    "\n",
    "    ax.set_xlabel('Image Index')\n",
    "    ax.set_ylabel('Predicted Probability of Being \"1\"')\n",
    "    ax.set_title('Predicted Probabilities of Being \"1\" for Selected Images')\n",
    "    ax.set_xticks(bar_positions)\n",
    "    ax.set_xticklabels([f'Img {i+1}' for i in range(len(images))], rotation=45)\n",
    "\n",
    "    plt.show()"
   ]
  },
  {
   "cell_type": "code",
   "execution_count": 262,
   "metadata": {},
   "outputs": [
    {
     "name": "stdout",
     "output_type": "stream",
     "text": [
      "\u001b[1m313/313\u001b[0m \u001b[32m━━━━━━━━━━━━━━━━━━━━\u001b[0m\u001b[37m\u001b[0m \u001b[1m0s\u001b[0m 605us/step\n",
      "\u001b[1m1/1\u001b[0m \u001b[32m━━━━━━━━━━━━━━━━━━━━\u001b[0m\u001b[37m\u001b[0m \u001b[1m0s\u001b[0m 16ms/step\n"
     ]
    },
    {
     "data": {
      "image/png": "[encoded data removed]",
      "text/plain": [
       "<Figure size 1500x500 with 10 Axes>"
      ]
     },
     "metadata": {},
     "output_type": "display_data"
    },
    {
     "name": "stdout",
     "output_type": "stream",
     "text": [
      "Total number of 1's in dataset  1135\n",
      "Total number of 0's in dataset  8865\n",
      "Total number of 1 predictions  1139\n",
      "Total number of 0 predictions  8861\n",
      "Total number of false 1 predictions  20\n",
      "Total number of false 0 predictions  16\n",
      "Chance of false 1 prediction 1.755926251097454 %\n",
      "Chance of false 0 prediction 0.1805665274799684 %\n"
     ]
    }
   ],
   "source": [
    "predictions = model.predict(x_test)\n",
    "predictions_formatted = predictions\n",
    "\n",
    "def filter_only_ones(input_list):\n",
    "    return [x for x in input_list if x == 1]\n",
    "\n",
    "for i in range(len(predictions)): \n",
    "    if predictions[i] >= 0.5: \n",
    "        predictions_formatted[i] = 1\n",
    "    else: predictions_formatted[i] = 0\n",
    "\n",
    "\n",
    "    \n",
    "countOf1 = len(filter_only_ones(y_test))\n",
    "countOf0 = len(y_test) - countOf1\n",
    "\n",
    "countOfPredicted1 = len(filter_only_ones(predictions_formatted))\n",
    "countOfPredicted0 = len(predictions_formatted) - countOfPredicted1\n",
    "\n",
    "countOfFalse1 = 0\n",
    "countOfFalse0 = 0\n",
    "\n",
    "for i in range(len(predictions)): \n",
    "    if predictions_formatted[i] != y_test_binary[i] : \n",
    "        if predictions_formatted[i] == 1 : \n",
    "            countOfFalse1 += 1\n",
    "        else: \n",
    "            countOfFalse0 += 1\n",
    "\n",
    "\n",
    "# Select a few test images to visualize\n",
    "num_images_to_visualize = 10\n",
    "indices = np.random.choice(len(x_test), num_images_to_visualize, replace=False)\n",
    "selected_images = x_test[indices]\n",
    "selected_labels = y_test[indices]\n",
    "\n",
    "# Preprocess the images: no need to reshape, model accepts (num_samples, 28, 28)\n",
    "selected_images_preprocessed = selected_images\n",
    "\n",
    "# Use the model to predict the probabilities\n",
    "predictions = model.predict(selected_images_preprocessed).flatten()\n",
    "\n",
    "# Plot the images with their predicted probabilities\n",
    "plot_predictions(selected_images, selected_labels, predictions, num_images=num_images_to_visualize)\n",
    "\n",
    "print(\"Total number of 1's in dataset \", countOf1)\n",
    "print(\"Total number of 0's in dataset \", countOf0)\n",
    "print(\"Total number of 1 predictions \", countOfPredicted1)\n",
    "print(\"Total number of 0 predictions \", countOfPredicted0)\n",
    "print(\"Total number of false 1 predictions \", countOfFalse1)\n",
    "print(\"Total number of false 0 predictions \", countOfFalse0)\n",
    "print(\"Chance of false 1 prediction\", (countOfFalse1 / countOfPredicted1 * 100), \"%\")\n",
    "print(\"Chance of false 0 prediction\", (countOfFalse0 / countOfPredicted0 * 100), \"%\")\n"
   ]
  },
  {
   "cell_type": "markdown",
   "metadata": {},
   "source": [
    "## Part 2\n",
    "\n",
    "To see the methodology of the second part of the assignment, follow this file below or go to file part2.ipynb"
   ]
  },
  {
   "cell_type": "markdown",
   "metadata": {},
   "source": []
  }
 ],
 "metadata": {
  "kernelspec": {
   "display_name": "Python 3 (ipykernel)",
   "language": "python",
   "name": "python3"
  },
  "language_info": {
   "codemirror_mode": {
    "name": "ipython",
    "version": 3
   },
   "file_extension": ".py",
   "mimetype": "text/x-python",
   "name": "python",
   "nbconvert_exporter": "python",
   "pygments_lexer": "ipython3",
   "version": "3.9.19"
  }
 },
 "nbformat": 4,
 "nbformat_minor": 2
}
