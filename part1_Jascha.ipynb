{
 "cells": [
  {
   "cell_type": "markdown",
   "metadata": {},
   "source": [
    "# Artificial intelligence\n",
    "\n",
    "Opdracht: <b>Neural networks</b>\n",
    "\n",
    "Groep: \n",
    "- Xin Wang\n",
    "- Jascha van der Ark"
   ]
  },
  {
   "cell_type": "markdown",
   "metadata": {},
   "source": [
    "## Assignment introduction\n",
    "\n",
    "<i>Recognizing handwritten digits is the ‘hello world’ of artificial neural networks. \n",
    "In this assignment you will train neural networks to identify the correct digital from a handwritten digit. \n",
    "\n",
    "You will be exploring how different input parameters (like the network topology) affects the results. \n",
    "\n",
    "You are free to use any tool and programming language. However, we suggest using Keras and Tensorflow (in Python).</i>"
   ]
  },
  {
   "cell_type": "markdown",
   "metadata": {},
   "source": [
    "## Part 1\n",
    "This part of the assignment will focus on predicting the handwritten digit, with a neural network."
   ]
  },
  {
   "cell_type": "markdown",
   "metadata": {},
   "source": [
    "### Intro\n",
    "\n",
    "#### The relevant techniques applied:\n",
    "- Image classification?\n",
    "- Linear regression\n",
    "- ???\n",
    "\n",
    "#### Datasets used\n",
    "- MNIST dataset of handwritten digits\n",
    "\n",
    "#### Goal:\n",
    "- The goal of this part of the assignment is to predict a handwritten digit, using a neural network.\n",
    "\n",
    "#### Possible challenges:\n",
    "- Overfitting\n",
    "- Underfitting\n",
    "- ???\n",
    "\n",
    "#### Points needed to be addressed during the assesment:\n",
    "- The Concept of the assignment\n",
    "- The code behind the Neural network.\n",
    "- The challenges behind this assignment\n",
    "- A Demo\n",
    "\n",
    "#### (Tijdelijk) Questions(Vragen voor AI)\n",
    "- Wat is precies de bedoeling van deel 1 en deel 2?\n",
    "- Moeten beide onderdelen in het eindassesment behandeld moeten worden?\n",
    "- Het is voor ons niet heel duidelijk wat er gevraagd wordt? Kunt u ons een directie aanwijzen waarna we toe kunnen werken? (Xin) <br/>Voorbeelden: De technieken toegepast en hoe dat past binnen dit onderwerp? "
   ]
  },
  {
   "cell_type": "markdown",
   "metadata": {},
   "source": [
    "#### Dataset setup."
   ]
  },
  {
   "cell_type": "code",
   "execution_count": 55,
   "metadata": {},
   "outputs": [],
   "source": [
    "# Import all the necessary tooling\n",
    "import tensorflow as tf\n",
    "import tensorflow_datasets as tfds\n",
    "import keras\n",
    "from keras import layers\n",
    "import pandas as pd\n",
    "import numpy as np\n",
    "import seaborn as sns \n",
    "# Matplotlib\n",
    "import matplotlib.pyplot as plt"
   ]
  },
  {
   "cell_type": "code",
   "execution_count": null,
   "metadata": {},
   "outputs": [],
   "source": [
    "\n"
   ]
  },
  {
   "cell_type": "code",
   "execution_count": 56,
   "metadata": {},
   "outputs": [
    {
     "name": "stdout",
     "output_type": "stream",
     "text": [
      "[0 0 0 ... 0 0 0]\n"
     ]
    },
    {
     "data": {
      "image/png": "[encoded data removed]",
      "text/plain": [
       "<Figure size 1000x1000 with 25 Axes>"
      ]
     },
     "metadata": {},
     "output_type": "display_data"
    }
   ],
   "source": [
    "# Importsfrom keras library\n",
    "digit_dataset = tf.keras.datasets.mnist\n",
    "# Load dataset\n",
    "(x_train, y_train), (x_test, y_test) = digit_dataset.load_data()\n",
    "\n",
    "for i in range(len(y_train)) : \n",
    "    if y_train[i] != 1: \n",
    "        y_train[i] = 0\n",
    "\n",
    "for i in range(len(y_test)) : \n",
    "    if y_test[i] != 1: \n",
    "        y_test[i] = 0\n",
    "\n",
    "print(y_train)\n",
    "\n",
    "# Create the labels\n",
    "class_names = [0, 1]\n",
    "# number_class = [0, 1, 2, 3, 4, 5, 6, 7, 8, 9]\n",
    "# (ds_train, ds_test), ds_info = tfds.load(\n",
    "#     'mnist',\n",
    "#     split=['train', 'test'],\n",
    "#     shuffle_files=True,\n",
    "#     as_supervised=True,\n",
    "#     with_info=True,\n",
    "# )\n",
    "\n",
    "plt.figure(figsize=(10,10))\n",
    "for i in range(25): \n",
    "    plt.subplot(5,5,i+1)\n",
    "    plt.xticks([])\n",
    "    plt.yticks([])\n",
    "    plt.grid(False)\n",
    "    plt.imshow(x_train[i], cmap=plt.cm.binary)\n",
    "    plt.xlabel(y_train[i])\n",
    "\n",
    "\n",
    "\n",
    "\n",
    "\n",
    "        \n"
   ]
  },
  {
   "cell_type": "code",
   "execution_count": 57,
   "metadata": {},
   "outputs": [
    {
     "name": "stdout",
     "output_type": "stream",
     "text": [
      "10000\n",
      "60000\n"
     ]
    }
   ],
   "source": [
    "len_train_ds = len(x_train)\n",
    "len_test_ds = len(x_test)\n",
    "# Length of datasets.\n",
    "print (len_test_ds) # 10000\n",
    "print (len_train_ds) # 60000\n",
    "\n",
    "element = x_train[0]"
   ]
  },
  {
   "cell_type": "markdown",
   "metadata": {},
   "source": [
    "We will start with a binary classification of the dataset. With the goal of determining if a digit is a 1 or not."
   ]
  },
  {
   "cell_type": "code",
   "execution_count": 58,
   "metadata": {},
   "outputs": [],
   "source": [
    "# Dummy playground."
   ]
  },
  {
   "cell_type": "code",
   "execution_count": 59,
   "metadata": {},
   "outputs": [],
   "source": [
    "# If needed, pre-process the data.\n",
    "\n",
    "# Set up the model\n",
    "# Like the amounts of layers needed\n",
    "# The kinds of preceptors or neurons needed\n",
    "# Eventually append the prediction layer to it.\n",
    "model = tf.keras.Sequential([\n",
    "    tf.keras.layers.Flatten(input_shape=(28,28)),\n",
    "    tf.keras.layers.Dense(16, activation=\"sigmoid\"),\n",
    "    tf.keras.layers.Dense(1)\n",
    "])\n",
    "\n"
   ]
  },
  {
   "cell_type": "code",
   "execution_count": 60,
   "metadata": {},
   "outputs": [
    {
     "name": "stdout",
     "output_type": "stream",
     "text": [
      "Epoch 1/10\n",
      "\u001b[1m1875/1875\u001b[0m \u001b[32m━━━━━━━━━━━━━━━━━━━━\u001b[0m\u001b[37m\u001b[0m \u001b[1m1s\u001b[0m 464us/step - auc_7: 0.4967 - loss: 1.8591\n",
      "Epoch 2/10\n",
      "\u001b[1m1875/1875\u001b[0m \u001b[32m━━━━━━━━━━━━━━━━━━━━\u001b[0m\u001b[37m\u001b[0m \u001b[1m1s\u001b[0m 463us/step - auc_7: 0.6882 - loss: 1.1313\n",
      "Epoch 3/10\n",
      "\u001b[1m1875/1875\u001b[0m \u001b[32m━━━━━━━━━━━━━━━━━━━━\u001b[0m\u001b[37m\u001b[0m \u001b[1m1s\u001b[0m 458us/step - auc_7: 0.9848 - loss: 0.0818\n",
      "Epoch 4/10\n",
      "\u001b[1m1875/1875\u001b[0m \u001b[32m━━━━━━━━━━━━━━━━━━━━\u001b[0m\u001b[37m\u001b[0m \u001b[1m1s\u001b[0m 463us/step - auc_7: 0.9871 - loss: 0.0784\n",
      "Epoch 5/10\n",
      "\u001b[1m1875/1875\u001b[0m \u001b[32m━━━━━━━━━━━━━━━━━━━━\u001b[0m\u001b[37m\u001b[0m \u001b[1m1s\u001b[0m 467us/step - auc_7: 0.9861 - loss: 0.0777\n",
      "Epoch 6/10\n",
      "\u001b[1m1875/1875\u001b[0m \u001b[32m━━━━━━━━━━━━━━━━━━━━\u001b[0m\u001b[37m\u001b[0m \u001b[1m1s\u001b[0m 465us/step - auc_7: 0.9868 - loss: 0.0782\n",
      "Epoch 7/10\n",
      "\u001b[1m1875/1875\u001b[0m \u001b[32m━━━━━━━━━━━━━━━━━━━━\u001b[0m\u001b[37m\u001b[0m \u001b[1m1s\u001b[0m 465us/step - auc_7: 0.9868 - loss: 0.0763\n",
      "Epoch 8/10\n",
      "\u001b[1m1875/1875\u001b[0m \u001b[32m━━━━━━━━━━━━━━━━━━━━\u001b[0m\u001b[37m\u001b[0m \u001b[1m1s\u001b[0m 502us/step - auc_7: 0.9877 - loss: 0.0663\n",
      "Epoch 9/10\n",
      "\u001b[1m1875/1875\u001b[0m \u001b[32m━━━━━━━━━━━━━━━━━━━━\u001b[0m\u001b[37m\u001b[0m \u001b[1m1s\u001b[0m 520us/step - auc_7: 0.9855 - loss: 0.0694\n",
      "Epoch 10/10\n",
      "\u001b[1m1875/1875\u001b[0m \u001b[32m━━━━━━━━━━━━━━━━━━━━\u001b[0m\u001b[37m\u001b[0m \u001b[1m1s\u001b[0m 462us/step - auc_7: 0.9877 - loss: 0.0589\n"
     ]
    },
    {
     "data": {
      "text/plain": [
       "<keras.src.callbacks.history.History at 0x285071baf00>"
      ]
     },
     "execution_count": 60,
     "metadata": {},
     "output_type": "execute_result"
    }
   ],
   "source": [
    "# Use the model for prediction\n",
    "\n",
    "model.compile(\n",
    "    optimizer='adam',\n",
    "    loss='binary_crossentropy',\n",
    "    metrics=[tf.keras.metrics.AUC(\n",
    "    num_thresholds=200,\n",
    "    curve='ROC',\n",
    "    summation_method='interpolation',\n",
    "    name=None,\n",
    "    dtype=None,\n",
    "    thresholds=None,\n",
    "    multi_label=False,\n",
    "    num_labels=None,\n",
    "    label_weights=None,\n",
    "    from_logits=False\n",
    ")\n",
    "]\n",
    ")\n",
    "\n",
    "model.fit(x_train, y_train, epochs=10)"
   ]
  },
  {
   "cell_type": "code",
   "execution_count": 61,
   "metadata": {},
   "outputs": [
    {
     "name": "stdout",
     "output_type": "stream",
     "text": [
      "313/313 - 0s - 664us/step - auc_7: 0.9951 - loss: 0.0334\n",
      "\u001b[1m313/313\u001b[0m \u001b[32m━━━━━━━━━━━━━━━━━━━━\u001b[0m\u001b[37m\u001b[0m \u001b[1m0s\u001b[0m 426us/step\n",
      "[-0.9649734]\n",
      "[-0.9649734]\n",
      "[1.7356483]\n",
      "[-0.9649734]\n",
      "[-1.4461346]\n",
      "[1.5370064]\n",
      "[-0.9649734]\n",
      "[-0.9649734]\n",
      "[-0.9649734]\n",
      "[-0.9649734]\n",
      "[-0.9649734]\n",
      "[-0.9649734]\n",
      "[-0.9649734]\n",
      "[-0.9649734]\n",
      "[0.81450564]\n",
      "[-0.9649734]\n",
      "[-1.4410266]\n",
      "[-1.4461346]\n",
      "[-0.9649734]\n",
      "[-1.4461346]\n",
      "[-0.9649734]\n",
      "[-0.9649734]\n",
      "[-0.9649734]\n",
      "[-0.9649734]\n",
      "[-0.9649734]\n",
      "[-0.9649734]\n",
      "[-1.0493852]\n",
      "[-0.9649734]\n",
      "[-0.9649734]\n",
      "[1.0131552]\n",
      "[-0.9649734]\n",
      "[1.0131552]\n",
      "[-0.9649734]\n",
      "[-0.9649734]\n",
      "[-0.9649734]\n",
      "[-0.9649734]\n",
      "[-1.4461346]\n",
      "[1.0131552]\n",
      "[-0.9649734]\n",
      "[0.82201284]\n",
      "[1.3755606]\n",
      "[-0.9649734]\n",
      "[-0.9649734]\n",
      "[0.049908]\n",
      "[-0.3251505]\n",
      "[-0.9649734]\n",
      "[0.72077465]\n",
      "[-0.9649734]\n",
      "[-0.9649734]\n",
      "[-1.4461346]\n",
      "[-0.9649734]\n",
      "[-0.9649734]\n",
      "[-0.9649734]\n",
      "[-0.9649734]\n",
      "[-0.9649734]\n",
      "[-0.9649734]\n",
      "[-0.9649734]\n",
      "[1.5370064]\n",
      "[-0.9649734]\n",
      "[-0.9649734]\n",
      "[-1.4461346]\n",
      "[-0.9649734]\n",
      "[-0.9649734]\n",
      "[-0.9649734]\n",
      "[-0.9649734]\n",
      "[-0.5705952]\n",
      "[-0.9649734]\n",
      "[-1.4461346]\n",
      "[-0.9649734]\n",
      "[-0.9649734]\n",
      "[-1.4461346]\n",
      "[-0.9649734]\n",
      "[-0.9649734]\n",
      "[-0.9649729]\n",
      "[0.81450564]\n",
      "[-0.9649734]\n",
      "[-0.3251505]\n",
      "[-0.9649734]\n",
      "[-0.96496576]\n",
      "[-0.9649734]\n",
      "[-1.4461346]\n",
      "[-0.9649734]\n",
      "[-0.9649734]\n",
      "[-1.4461339]\n",
      "[-0.9649734]\n",
      "[-0.9649734]\n",
      "[-0.9649734]\n",
      "[-0.9649734]\n",
      "[-0.9649734]\n",
      "[1.5370064]\n",
      "[-0.9649734]\n",
      "[-0.9649734]\n",
      "[-0.9649734]\n",
      "[-0.9649734]\n",
      "[1.0131552]\n",
      "[-0.9649734]\n",
      "[1.0131551]\n",
      "[-0.61241406]\n",
      "[-0.9649734]\n",
      "[-0.9649734]\n"
     ]
    }
   ],
   "source": [
    "# Evaluate the model\n",
    "\n",
    "test_loss, test_acc = model.evaluate(x_test,  y_test, verbose=2)\n",
    "\n",
    "probability_model = tf.keras.Sequential([model])\n",
    "\n",
    "predictions = probability_model.predict(x_test)\n",
    "for i in range(100) : \n",
    "    print(predictions[i])\n",
    "\n",
    "\n"
   ]
  },
  {
   "cell_type": "markdown",
   "metadata": {},
   "source": [
    "Findings:\n",
    "\n",
    "Fill in the findings\n",
    "\n",
    "====\n",
    "Repeat the cycle, but this time to predict if the right digit is predicted based on the handwritten digit."
   ]
  },
  {
   "cell_type": "markdown",
   "metadata": {},
   "source": [
    "## Part 2\n",
    "\n",
    "To see the methodology of the second part of the assignment, follow this file below or go to file part2.ipynb"
   ]
  },
  {
   "cell_type": "code",
   "execution_count": 62,
   "metadata": {},
   "outputs": [
    {
     "data": {
      "image/png": "[encoded data removed]",
      "text/plain": [
       "<Figure size 1500x1500 with 25 Axes>"
      ]
     },
     "metadata": {},
     "output_type": "display_data"
    },
    {
     "name": "stdout",
     "output_type": "stream",
     "text": [
      "10000   1135\n",
      "10000\n",
      "Total number of 1's in dataset  1135\n",
      "Total number of 0's in dataset  8865\n",
      "Total number of 1 predictions  1263\n",
      "Total number of 0 predictions  8737\n",
      "Total number of false 1 predictions  138\n",
      "Total number of false 0 predictions  10\n",
      "Chance of false 1 prediction 10.926365795724466 %\n",
      "Chance of false 0 prediction 0.11445576284765938 %\n"
     ]
    }
   ],
   "source": [
    "fig, axes = plt.subplots(nrows=5, ncols=5, figsize=(15, 15))\n",
    "\n",
    "\n",
    "results_formatted = predictions\n",
    "\n",
    "for i in range(len(results_formatted)) : \n",
    "    if results_formatted[i] > 0 : \n",
    "        results_formatted[i] = 1\n",
    "    else: results_formatted[i] = 0\n",
    "# Display the images and numbers in a 5x5 grid\n",
    "for i, ax in enumerate(axes.flatten()):\n",
    "    # Display the image\n",
    "    ax.imshow(x_test[i])\n",
    "    \n",
    "    # Hide the axes\n",
    "    ax.axis('off')\n",
    "    \n",
    "    # Display the numbers beneath the image\n",
    "    ax.text(0.5, -0.1, f'{predictions[i]}     {y_test[i]}', ha='center', va='center', fontsize=12, transform=ax.transAxes)\n",
    "\n",
    "# Adjust the spacing between images\n",
    "plt.subplots_adjust(wspace=0.3, hspace=0.3)\n",
    "\n",
    "# Show the plot\n",
    "plt.show()\n",
    "\n",
    "\n",
    "\n",
    "def filter_only_ones(input_list):\n",
    "    return [x for x in input_list if x == 1]\n",
    "number_of_false_0 = 0\n",
    "number_of_false_1 = 0\n",
    "number_of_1 = len(filter_only_ones(y_test))\n",
    "number_of_0 = len(y_test) - number_of_1\n",
    "number_of_1_predicted = 0\n",
    "number_of_0_predicted = 0\n",
    "\n",
    "print(len(y_test), \" \" , number_of_1)\n",
    "\n",
    "\n",
    "for i in range(len(results_formatted)):\n",
    "    if results_formatted[i] != y_test[i] :\n",
    "        if y_test[i] == 0 : \n",
    "            number_of_false_1 += 1\n",
    "        else: number_of_false_0 += 1\n",
    "\n",
    "for i in range(len(results_formatted)) :\n",
    "    if results_formatted[i] == 0 : \n",
    "        number_of_0_predicted += 1\n",
    "    else : number_of_1_predicted += 1\n",
    "\n",
    "print(len(y_test))\n",
    "print(\"Total number of 1's in dataset \", number_of_1)\n",
    "print(\"Total number of 0's in dataset \", number_of_0)\n",
    "print(\"Total number of 1 predictions \", number_of_1_predicted)\n",
    "print(\"Total number of 0 predictions \", number_of_0_predicted)\n",
    "print(\"Total number of false 1 predictions \", number_of_false_1)\n",
    "print(\"Total number of false 0 predictions \", number_of_false_0)\n",
    "print(\"Chance of false 1 prediction\", (number_of_false_1 / number_of_1_predicted * 100), \"%\")\n",
    "print(\"Chance of false 0 prediction\", (number_of_false_0 / number_of_0_predicted * 100), \"%\")\n",
    "\n",
    "\n",
    "\n",
    "\n",
    "\n",
    "\n",
    "\n"
   ]
  },
  {
   "cell_type": "markdown",
   "metadata": {},
   "source": []
  }
 ],
 "metadata": {
  "kernelspec": {
   "display_name": "Python 3",
   "language": "python",
   "name": "python3"
  },
  "language_info": {
   "codemirror_mode": {
    "name": "ipython",
    "version": 3
   },
   "file_extension": ".py",
   "mimetype": "text/x-python",
   "name": "python",
   "nbconvert_exporter": "python",
   "pygments_lexer": "ipython3",
   "version": "3.12.3"
  }
 },
 "nbformat": 4,
 "nbformat_minor": 2
}
